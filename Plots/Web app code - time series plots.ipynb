{
 "cells": [
  {
   "cell_type": "markdown",
   "metadata": {},
   "source": [
    "Read in data for products and assign product names (this should be automated from meta data in the future"
   ]
  },
  {
   "cell_type": "code",
   "execution_count": 4,
   "metadata": {
    "collapsed": false
   },
   "outputs": [],
   "source": [
    "import pandas as pd\n",
    "product1 = pd.read_csv(\"./data/Samsung_chromebook_review.csv\", sep='\\t')\n",
    "product2 = pd.read_csv(\"./data/Ipad_review.csv\", sep='\\t')\n",
    "product3 = pd.read_csv(\"./data/Kindle_fire_review.csv\", sep='\\t')\n",
    "product4 = pd.read_csv(\"./data/Google_nexus_tablet.csv\", sep='\\t')"
   ]
  },
  {
   "cell_type": "code",
   "execution_count": 5,
   "metadata": {
    "collapsed": false
   },
   "outputs": [],
   "source": [
    "product1[\"product_name\"] = \"Samsung Chromebook\"\n",
    "product2[\"product_name\"] = \"iPad Mini\"\n",
    "product3[\"product_name\"] = \"Kindle Fire\"\n",
    "product4[\"product_name\"] = \"Google Nexus\"\n",
    "\n",
    "frames = [product1, product2, product3, product4]\n",
    "all_reviews = pd.concat(frames)"
   ]
  },
  {
   "cell_type": "markdown",
   "metadata": {},
   "source": [
    "Work out number of product reviews for each product. Maybe this will be useful at some point.\n",
    "\n",
    "Everything before this point can be done when the web page is initially loaded, everything after this point will update when parameters are given. Currently only parameter is product, although multiple products can be given as a list (they will all be plotted on the same graph). "
   ]
  },
  {
   "cell_type": "code",
   "execution_count": 6,
   "metadata": {
    "collapsed": false
   },
   "outputs": [],
   "source": [
    "number_product_reviews = all_reviews.groupby([all_reviews.product_name]).overall.count()"
   ]
  },
  {
   "cell_type": "code",
   "execution_count": 7,
   "metadata": {
    "collapsed": false
   },
   "outputs": [],
   "source": [
    "import datetime\n",
    "import plotly\n",
    "import plotly.plotly as py\n",
    "import plotly.graph_objs as go\n",
    "import json\n",
    "\n",
    "def organize_product_reviews(product):\n",
    "    #Convert data to correct type\n",
    "    product['unixReviewTime'] = pd.to_datetime(product['unixReviewTime'],unit='s')\n",
    "    product[\"overall\"] = product[\"overall\"].astype(int)\n",
    "    \n",
    "    #\n",
    "    time_dist=product.groupby([product.unixReviewTime.dt.year,product.unixReviewTime.dt.month]).overall.count()\n",
    "\n",
    "    df_time = time_dist.to_frame()\n",
    "    df_time[\"date\"] = pd.to_datetime( time_dist.index, format='(%Y, %m)')\n",
    "    \n",
    "    return df_time\n",
    "\n",
    "def sentiment_reviews(product):\n",
    "    #Convert data to correct type\n",
    "    product['unixReviewTime'] = pd.to_datetime(product['unixReviewTime'],unit='s')\n",
    "    product[\"overall\"] = product[\"overall\"].astype(int)\n",
    "    \n",
    "    product = product[product[\"overall\"] != 3]\n",
    "    product[\"sentiment\"] = product[\"overall\"] >= 4\n",
    "    \n",
    "    pos_product = product[product[\"sentiment\"] == True]\n",
    "    neg_product = product[product[\"sentiment\"] == False]\n",
    "    #\n",
    "    time_dist=product.groupby([product.unixReviewTime.dt.year,product.unixReviewTime.dt.month]).overall.count()\n",
    "    pos_dist = pos_product.groupby([pos_product.unixReviewTime.dt.year,pos_product.unixReviewTime.dt.month]).sentiment.count()\n",
    "    neg_dist = neg_product.groupby([neg_product.unixReviewTime.dt.year,neg_product.unixReviewTime.dt.month]).summary.count()\n",
    "\n",
    "\n",
    "    result = pd.concat([time_dist, pos_dist,neg_dist], axis=1, join_axes=[time_dist.index])\n",
    "    result[\"date\"] = pd.to_datetime( result.index, format='(%Y, %m)')\n",
    "    \n",
    "    result[\"sentiment_score\"] = result[\"sentiment\"]*100/result[\"overall\"][result[\"overall\"] > 2]\n",
    "    \n",
    "    return result\n",
    "\n",
    "def make_all_review_plot_json(products):\n",
    "    data = []\n",
    "    \n",
    "    if type(products) == str:\n",
    "        reviews = all_reviews[all_reviews[\"product_name\"] == products]\n",
    "        product_time = organize_product_reviews(reviews)\n",
    "    \n",
    "        trace = go.Scatter(\n",
    "            x=product_time[\"date\"][product_time[\"overall\"] > 1],\n",
    "            y=product_time[\"overall\"][product_time[\"overall\"] > 1],\n",
    "            name=products\n",
    "        )\n",
    "        data = [trace]\n",
    "    elif type(products) == list:\n",
    "    \n",
    "        for product in products:\n",
    "            reviews = all_reviews[all_reviews[\"product_name\"] == product]\n",
    "            product_time = organize_product_reviews(reviews)\n",
    "    \n",
    "            trace = go.Scatter(\n",
    "                x=product_time[\"date\"][product_time[\"overall\"] > 1],\n",
    "                y=product_time[\"overall\"][product_time[\"overall\"] > 1],\n",
    "                name=product\n",
    "            )\n",
    "            data.append(trace)\n",
    "    else:\n",
    "        print(\"Error: incorrect type for products. Try string or list.\")\n",
    "\n",
    "\n",
    "    layout = go.Layout(\n",
    "        title='Reviews vs time',\n",
    "        xaxis=dict(\n",
    "            title='Date',\n",
    "        ),\n",
    "        yaxis=dict(\n",
    "            title='Number of reviews',\n",
    "        ),\n",
    "        showlegend=True\n",
    "    )\n",
    "\n",
    "    fig = go.Figure(data=data, layout=layout)\n",
    "    with open('Ipad_and_Kindle.json', 'w') as outfile:\n",
    "        return json.dump(fig, outfile, cls=plotly.utils.PlotlyJSONEncoder)\n",
    "    \n",
    "def make_sentiment_plot_json(products):\n",
    "    data = []\n",
    "    \n",
    "    if type(products) == str:\n",
    "        reviews = all_reviews[all_reviews[\"product_name\"] == products]\n",
    "        sent_product = sentiment_reviews(reviews)\n",
    "    \n",
    "        trace = go.Scatter(\n",
    "            x=sent_product[\"date\"][sent_product[\"overall\"] > 1],\n",
    "            y=sent_product[\"sentiment_score\"][sent_product[\"overall\"] > 1],\n",
    "            name=products\n",
    "        )\n",
    "        data = [trace]\n",
    "    elif type(products) == list:\n",
    "    \n",
    "        for product in products:\n",
    "            reviews = all_reviews[all_reviews[\"product_name\"] == product]\n",
    "            sent_product = sentiment_reviews(reviews)\n",
    "    \n",
    "            trace = go.Scatter(\n",
    "                x=sent_product[\"date\"][sent_product[\"overall\"] > 1],\n",
    "                y=sent_product[\"sentiment_score\"][sent_product[\"overall\"] > 1],\n",
    "                name=product\n",
    "            )\n",
    "            data.append(trace)\n",
    "    else:\n",
    "        print(\"Error: incorrect type for products. Try string or list.\")\n",
    "\n",
    "\n",
    "    layout = go.Layout(\n",
    "        title='Sentiment vs time',\n",
    "        xaxis=dict(\n",
    "            title='Date',\n",
    "        ),\n",
    "        yaxis=dict(\n",
    "            title='% of positive reviews',\n",
    "        ),\n",
    "        showlegend=True\n",
    "    )\n",
    "\n",
    "    fig = go.Figure(data=data, layout=layout)\n",
    "    with open('Ipad_and_Kindle_sentiment.json', 'w') as outfile:\n",
    "        return json.dump(fig, outfile, cls=plotly.utils.PlotlyJSONEncoder)"
   ]
  },
  {
   "cell_type": "code",
   "execution_count": 8,
   "metadata": {
    "collapsed": false
   },
   "outputs": [
    {
     "name": "stderr",
     "output_type": "stream",
     "text": [
      "/Applications/anaconda/lib/python3.5/site-packages/ipykernel/__main__.py:9: SettingWithCopyWarning:\n",
      "\n",
      "\n",
      "A value is trying to be set on a copy of a slice from a DataFrame.\n",
      "Try using .loc[row_indexer,col_indexer] = value instead\n",
      "\n",
      "See the caveats in the documentation: http://pandas.pydata.org/pandas-docs/stable/indexing.html#indexing-view-versus-copy\n",
      "\n",
      "/Applications/anaconda/lib/python3.5/site-packages/ipykernel/__main__.py:10: SettingWithCopyWarning:\n",
      "\n",
      "\n",
      "A value is trying to be set on a copy of a slice from a DataFrame.\n",
      "Try using .loc[row_indexer,col_indexer] = value instead\n",
      "\n",
      "See the caveats in the documentation: http://pandas.pydata.org/pandas-docs/stable/indexing.html#indexing-view-versus-copy\n",
      "\n",
      "/Applications/anaconda/lib/python3.5/site-packages/ipykernel/__main__.py:22: SettingWithCopyWarning:\n",
      "\n",
      "\n",
      "A value is trying to be set on a copy of a slice from a DataFrame.\n",
      "Try using .loc[row_indexer,col_indexer] = value instead\n",
      "\n",
      "See the caveats in the documentation: http://pandas.pydata.org/pandas-docs/stable/indexing.html#indexing-view-versus-copy\n",
      "\n",
      "/Applications/anaconda/lib/python3.5/site-packages/ipykernel/__main__.py:23: SettingWithCopyWarning:\n",
      "\n",
      "\n",
      "A value is trying to be set on a copy of a slice from a DataFrame.\n",
      "Try using .loc[row_indexer,col_indexer] = value instead\n",
      "\n",
      "See the caveats in the documentation: http://pandas.pydata.org/pandas-docs/stable/indexing.html#indexing-view-versus-copy\n",
      "\n",
      "/Applications/anaconda/lib/python3.5/site-packages/ipykernel/__main__.py:26: SettingWithCopyWarning:\n",
      "\n",
      "\n",
      "A value is trying to be set on a copy of a slice from a DataFrame.\n",
      "Try using .loc[row_indexer,col_indexer] = value instead\n",
      "\n",
      "See the caveats in the documentation: http://pandas.pydata.org/pandas-docs/stable/indexing.html#indexing-view-versus-copy\n",
      "\n"
     ]
    }
   ],
   "source": [
    "make_all_review_plot_json([\"iPad Mini\", \"Kindle Fire\"])\n",
    "make_sentiment_plot_json([\"iPad Mini\", \"Kindle Fire\"])"
   ]
  },
  {
   "cell_type": "code",
   "execution_count": null,
   "metadata": {
    "collapsed": true
   },
   "outputs": [],
   "source": []
  }
 ],
 "metadata": {
  "kernelspec": {
   "display_name": "Python 3",
   "language": "python",
   "name": "python3"
  },
  "language_info": {
   "codemirror_mode": {
    "name": "ipython",
    "version": 3
   },
   "file_extension": ".py",
   "mimetype": "text/x-python",
   "name": "python",
   "nbconvert_exporter": "python",
   "pygments_lexer": "ipython3",
   "version": "3.5.1"
  }
 },
 "nbformat": 4,
 "nbformat_minor": 0
}
